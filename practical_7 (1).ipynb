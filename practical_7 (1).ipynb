{
  "nbformat": 4,
  "nbformat_minor": 0,
  "metadata": {
    "colab": {
      "name": "practical 7 ",
      "provenance": []
    },
    "kernelspec": {
      "name": "python3",
      "display_name": "Python 3"
    },
    "language_info": {
      "name": "python"
    }
  },
  "cells": [
    {
      "cell_type": "code",
      "metadata": {
        "colab": {
          "base_uri": "https://localhost:8080/"
        },
        "id": "5UcFfkom-qhk",
        "outputId": "6659cfd6-feea-4f70-8c04-e5651ddec583"
      },
      "source": [
        "def Insertsort(arr,n):\n",
        "  i=0\n",
        "  for i in range(n):\n",
        "    temp=arr[i]\n",
        "    j=i-1\n",
        "    while((j>=0) & (arr[j]>temp)):\n",
        "      arr[j+1]=arr[j]\n",
        "      j=j-1\n",
        "      arr[j+1]=arr[j]\n",
        "      j=j-1\n",
        "      arr[j+1]=temp\n",
        "  print(arr)\n",
        "print(\"\\n program for insertion sort\")\n",
        "print(\"\\n how many elements are there in Array\")\n",
        "n=int(input())\n",
        "array=[]\n",
        "i=0\n",
        "for i in range(n):\n",
        "  print(\"\\n enter the element in Array\")\n",
        "  item=int(input())\n",
        "  array.append(item)\n",
        "print(\"\\n original array is\")\n",
        "print(array) \n",
        "print(\"\\n sorted Array is\")\n",
        "Insertsort(array,n) \n"
      ],
      "execution_count": null,
      "outputs": [
        {
          "output_type": "stream",
          "name": "stdout",
          "text": [
            "\n",
            " program for insertion sort\n",
            "\n",
            " how many elements are there in Array\n",
            "5\n",
            "\n",
            " enter the element in Array\n",
            "50\n",
            "\n",
            " enter the element in Array\n",
            "80\n",
            "\n",
            " enter the element in Array\n",
            "40\n",
            "\n",
            " enter the element in Array\n",
            "33\n",
            "\n",
            " enter the element in Array\n",
            "21\n",
            "\n",
            " original array is\n",
            "[50, 80, 40, 33, 21]\n",
            "\n",
            " sorted Array is\n",
            "[33, 21, 40, 50, 80]\n"
          ]
        }
      ]
    }
  ]
}