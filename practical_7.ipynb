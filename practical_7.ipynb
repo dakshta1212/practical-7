{
  "nbformat": 4,
  "nbformat_minor": 0,
  "metadata": {
    "colab": {
      "name": "practical 7",
      "provenance": []
    },
    "kernelspec": {
      "name": "python3",
      "display_name": "Python 3"
    },
    "language_info": {
      "name": "python"
    }
  },
  "cells": [
    {
      "cell_type": "code",
      "metadata": {
        "colab": {
          "base_uri": "https://localhost:8080/"
        },
        "id": "9p-LSv0n-Lbz",
        "outputId": "18eae51f-4521-4eb3-c915-9daa85effe3e"
      },
      "source": [
        "def Bubble(arr,n):\n",
        "  i=0\n",
        "  for i in range(n-1):\n",
        "    for j in range(0,n-i-1):\n",
        "      if(arr[j]>arr[j+1]):\n",
        "        temp=arr[j]\n",
        "        arr[j]=arr[j+1]\n",
        "        arr[j+1]=temp\n",
        "        print(\"\\npass#\",(i+1))\n",
        "        print(arr)\n",
        "print(\"\\n program for Bubble sort\")\n",
        "print(\"\\n how many elements are there in array?\")\n",
        "n=int(input())\n",
        "array=[]\n",
        "i=0\n",
        "for i in range(n):\n",
        "  print(\"\\n enter element in array\")\n",
        "  item=int(input())\n",
        "  array.append(item)\n",
        "print(\"original array is\\n\")\n",
        "print(array)\n",
        "print(\"\\n sorted array is\")\n",
        "Bubble(array,n)"
      ],
      "execution_count": null,
      "outputs": [
        {
          "output_type": "stream",
          "name": "stdout",
          "text": [
            "\n",
            " program for Bubble sort\n",
            "\n",
            " how many elements are there in array?\n",
            "4\n",
            "\n",
            " enter element in array\n",
            "10\n",
            "\n",
            " enter element in array\n",
            "30\n",
            "\n",
            " enter element in array\n",
            "20\n",
            "\n",
            " enter element in array\n",
            "40\n",
            "original array is\n",
            "\n",
            "[10, 30, 20, 40]\n",
            "\n",
            " sorted array is\n",
            "\n",
            "pass# 1\n",
            "[10, 20, 30, 40]\n"
          ]
        }
      ]
    }
  ]
}